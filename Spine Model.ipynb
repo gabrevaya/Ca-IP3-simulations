{
 "cells": [
  {
   "cell_type": "markdown",
   "metadata": {},
   "source": [
    "# Spine Model"
   ]
  },
  {
   "cell_type": "markdown",
   "metadata": {},
   "source": [
    "Differential equation for the Calcium concentration at the post synaptic spine."
   ]
  },
  {
   "cell_type": "code",
   "execution_count": 1,
   "metadata": {},
   "outputs": [
    {
     "data": {
      "text/plain": [
       "0.5"
      ]
     },
     "execution_count": 1,
     "metadata": {},
     "output_type": "execute_result"
    }
   ],
   "source": [
    "# Model and simulation parameters\n",
    "\n",
    "freq = 5 #Hz\n",
    "const τ₁ = 50.0\n",
    "const τ₂ = 5.0\n",
    "const τ_b = 20.0\n",
    "const τ_k = 56.0\n",
    "const τ_Ca = 50.0\n",
    "const vₑ = 1.0\n",
    "const v_b = 60.0\n",
    "const v_k = 2.0\n",
    "const vᵣ = - 65.0\n",
    "const Vᵣₑᵥ = 130.0\n",
    "const α = 5.0\n",
    "const K_d = 0.32\n",
    "const P₀ = 10.0\n",
    "const ḡ = 0.00103\n",
    "const t_est = collect(1:1000/freq:1000)\n",
    "const τ_f = 200.0\n",
    "const τ_s = 50.0\n",
    "const I_f = 0.5\n",
    "const I_s = 0.5"
   ]
  },
  {
   "cell_type": "markdown",
   "metadata": {},
   "source": [
    "Defining the differential equation goberning the calcium concentration:\n",
    "\n",
    "$$\\frac{d[Ca^{2+}]}{dt} = - I_{NMDA}(t) - \\frac{1}{\\tau_{Ca}} [Ca^{2+}]$$\n"
   ]
  },
  {
   "cell_type": "code",
   "execution_count": 2,
   "metadata": {},
   "outputs": [
    {
     "data": {
      "text/plain": [
       "dCa (generic function with 1 method)"
      ]
     },
     "execution_count": 2,
     "metadata": {},
     "output_type": "execute_result"
    }
   ],
   "source": [
    "dCa(Ca, Δt, t) = - Inmda(Ca, t, t_est, Δt) - (1/τ_Ca) * Ca"
   ]
  },
  {
   "cell_type": "markdown",
   "metadata": {},
   "source": [
    "$$I_{NMDA}(t,\\{t_{pre}\\},\\{t_{post}\\}) = \\bar{g}f(t,t_{pre})\\mathcal{H}(V)$$"
   ]
  },
  {
   "cell_type": "code",
   "execution_count": 3,
   "metadata": {},
   "outputs": [
    {
     "data": {
      "text/plain": [
       "Inmda (generic function with 1 method)"
      ]
     },
     "execution_count": 3,
     "metadata": {},
     "output_type": "execute_result"
    }
   ],
   "source": [
    "Inmda(Ca, t, t_pre, Δt) = ḡ * f(t, t_pre) * ℋ(V(Ca, t, t_pre, Δt))"
   ]
  },
  {
   "cell_type": "markdown",
   "metadata": {},
   "source": [
    "$$f(t,t_{pre})=P_0[I_fΘ(t−t_{pre})e^{−(t−t_{pre})/τf} +I_sΘ(t−t_{pre})e^{−(t−t_{pre})/τs}]$$"
   ]
  },
  {
   "cell_type": "code",
   "execution_count": 4,
   "metadata": {},
   "outputs": [
    {
     "data": {
      "text/plain": [
       "f (generic function with 2 methods)"
      ]
     },
     "execution_count": 4,
     "metadata": {},
     "output_type": "execute_result"
    }
   ],
   "source": [
    "f(t, t_pre) = P₀ * (I_f * Θ(t - t_pre) * exp(-(t - t_pre)/τ_f) + I_s * Θ(t - t_pre) * exp(-(t - t_pre)/τ_s))\n",
    "f(t, t_pre::Vector) = sum(f.(t, t_pre))"
   ]
  },
  {
   "cell_type": "markdown",
   "metadata": {},
   "source": [
    "$$\\mathcal{H}(V) = \\frac{V(t) - V_{rev}}{1 + \\frac{e^{-0.062V}}{3.59}}$$"
   ]
  },
  {
   "cell_type": "code",
   "execution_count": 5,
   "metadata": {},
   "outputs": [
    {
     "data": {
      "text/plain": [
       "ℋ (generic function with 1 method)"
      ]
     },
     "execution_count": 5,
     "metadata": {},
     "output_type": "execute_result"
    }
   ],
   "source": [
    "ℋ(V) = (V - Vᵣₑᵥ) / (1 + (exp(-0.062 * V)/3.57))"
   ]
  },
  {
   "cell_type": "markdown",
   "metadata": {},
   "source": [
    "$$V (t) = v_R + BPAP(t) + EPSP_{AMPA}(t) + EPSP_{SK}(t)$$"
   ]
  },
  {
   "cell_type": "code",
   "execution_count": 6,
   "metadata": {},
   "outputs": [
    {
     "data": {
      "text/plain": [
       "V (generic function with 2 methods)"
      ]
     },
     "execution_count": 6,
     "metadata": {},
     "output_type": "execute_result"
    }
   ],
   "source": [
    "V(Ca, t, t_pre, Δt) = vᵣ + BPAP(t, t_pre, Δt) + EPSP_AMPA(t, t_pre) + EPSP_SK(Ca, t, t_pre, Δt)\n",
    "\n",
    "V(Ca, t, t_pre::Vector, Δt) = vᵣ + sum(BPAP.(t, t_pre, Δt) + EPSP_AMPA.(t, t_pre) + EPSP_SK.(Ca, t, t_pre, Δt))"
   ]
  },
  {
   "cell_type": "markdown",
   "metadata": {},
   "source": [
    "$$BPAP(t,t_{post}) = v_B Θ(t − t_{post}) e^{\\frac{−(t−tpost)}{τ_B}}$$"
   ]
  },
  {
   "cell_type": "code",
   "execution_count": 7,
   "metadata": {},
   "outputs": [
    {
     "data": {
      "text/plain": [
       "Θ (generic function with 1 method)"
      ]
     },
     "execution_count": 7,
     "metadata": {},
     "output_type": "execute_result"
    }
   ],
   "source": [
    "# Defining a Heaviside function\n",
    "Θ(x) = x < zero(x) ? zero(x) : one(x)"
   ]
  },
  {
   "cell_type": "code",
   "execution_count": 8,
   "metadata": {},
   "outputs": [
    {
     "data": {
      "text/plain": [
       "BPAP (generic function with 1 method)"
      ]
     },
     "execution_count": 8,
     "metadata": {},
     "output_type": "execute_result"
    }
   ],
   "source": [
    "BPAP(t, t_pre, Δt) = v_b * Θ(t - (t_pre + Δt)) * exp(-(t - (t_pre + Δt))/τ_b)"
   ]
  },
  {
   "cell_type": "markdown",
   "metadata": {},
   "source": [
    "$$ESPS_{AMPA}(t) = v_E Θ(t−t_{pre})􏰂 \\bigg[e^{\\frac{−(t−t_{pre})}{τ_1}} +e^{\\frac{−(t−t_{pre})}{τ_2}}\\bigg]􏰃$$"
   ]
  },
  {
   "cell_type": "code",
   "execution_count": 9,
   "metadata": {},
   "outputs": [
    {
     "data": {
      "text/plain": [
       "EPSP_AMPA (generic function with 1 method)"
      ]
     },
     "execution_count": 9,
     "metadata": {},
     "output_type": "execute_result"
    }
   ],
   "source": [
    "EPSP_AMPA(t, t_pre) = vₑ * Θ(t - t_pre) * (exp(-(t - t_pre)/τ₁) + exp(-(t - t_pre)/τ₂))"
   ]
  },
  {
   "cell_type": "markdown",
   "metadata": {},
   "source": [
    "$$EPSP_{SK} = v_{SK} \\bigg[ \\frac{[Ca^{2+}]^\\alpha}{[Ca^{2+}]^\\alpha K^\\alpha_d} \\bigg]$$\n",
    "\n",
    "$$v_{SK} = v_k Θ(t−t_{post})􏰂 e^{\\frac{−(t−t_{post})}{τ_k}}$$"
   ]
  },
  {
   "cell_type": "code",
   "execution_count": 10,
   "metadata": {},
   "outputs": [
    {
     "data": {
      "text/plain": [
       "v_sk (generic function with 1 method)"
      ]
     },
     "execution_count": 10,
     "metadata": {},
     "output_type": "execute_result"
    }
   ],
   "source": [
    "EPSP_SK(Ca, t, t_pre, Δt) = v_sk(t, t_pre, Δt) * (Ca^α / (Ca^α + K_d^α))\n",
    "\n",
    "v_sk(t, t_pre, Δt) = v_k * Θ(t - (t_pre + Δt)) * exp(-(t - (t_pre + Δt))/τ_k) + 0.018"
   ]
  },
  {
   "cell_type": "markdown",
   "metadata": {},
   "source": [
    "Defining the ODE system"
   ]
  },
  {
   "cell_type": "code",
   "execution_count": 11,
   "metadata": {},
   "outputs": [],
   "source": [
    "using OrdinaryDiffEq"
   ]
  },
  {
   "cell_type": "code",
   "execution_count": 12,
   "metadata": {},
   "outputs": [],
   "source": [
    "Ca₀ = 0.0\n",
    "t = 0.0:1:1000.0\n",
    "Δt = 10.0\n",
    "prob = ODEProblem(dCa, Ca₀, (0.0,1000.0), Δt, saveat = t)\n",
    "sol1 = solve(prob, Tsit5())\n",
    "\n",
    "Δt = -20.0\n",
    "prob = remake(prob, p = Δt)\n",
    "sol2 = solve(prob, Tsit5());"
   ]
  },
  {
   "cell_type": "code",
   "execution_count": 13,
   "metadata": {},
   "outputs": [],
   "source": [
    "using Plots"
   ]
  },
  {
   "cell_type": "code",
   "execution_count": null,
   "metadata": {
    "scrolled": false
   },
   "outputs": [],
   "source": [
    "plot(sol1 , label = \"Δt = 10 ms\", title = \"5 Hz\")\n",
    "plot!(sol2 , label = \"Δt = -20 ms\")"
   ]
  },
  {
   "cell_type": "code",
   "execution_count": null,
   "metadata": {},
   "outputs": [],
   "source": [
    "using Interact"
   ]
  },
  {
   "cell_type": "code",
   "execution_count": null,
   "metadata": {},
   "outputs": [],
   "source": [
    "@Interact.manipulate for Δt ∈ -100:1.0:100\n",
    "    Ca₀ = 0.0\n",
    "    t = 0.0:1:1000.0\n",
    "    prob = ODEProblem(dCa, Ca₀, (0.0,1000.0), Δt, saveat = t)\n",
    "    sol = solve(prob, Tsit5())\n",
    "    plot(sol, label = \"Δt = $Δt ms\", title = \"5 Hz\")\n",
    "    ylims!(0,15.0)\n",
    "end"
   ]
  },
  {
   "cell_type": "code",
   "execution_count": null,
   "metadata": {},
   "outputs": [],
   "source": []
  }
 ],
 "metadata": {
  "@webio": {
   "lastCommId": null,
   "lastKernelId": null
  },
  "kernelspec": {
   "display_name": "Julia 1.4.2",
   "language": "julia",
   "name": "julia-1.4"
  },
  "language_info": {
   "file_extension": ".jl",
   "mimetype": "application/julia",
   "name": "julia",
   "version": "1.4.2"
  }
 },
 "nbformat": 4,
 "nbformat_minor": 4
}
